{
 "cells": [
  {
   "cell_type": "markdown",
   "metadata": {},
   "source": [
    "# Exercício 1\n",
    "# Fatoração de Números Primos\n",
    "\n",
    "Os fatores de um número são os números com os quais é possível obter um outro número através da multiplicação, por exemplo, os números $2$ e $3$ são fatores do número $6$, de forma que: \n",
    "\n",
    "$$ 2 \\times 3 = 6$$ \n",
    "\n",
    "Fatorização é o processo de encontrar quais números são os fatores de outro número, frequentemente realizando verificando por quais números podemos realizar a divisão inteira sem resto do número a ser fatorado. A [fatorização em primos](https://www.mathsisfun.com/prime-factorization.html) ou [decomposição em fatores primos](https://www.somatematica.com.br/fundam/decomp.php) é um tipo especial de fatorização com diversas aplicações, [especialmente em criptografia](http://cryptofundamentals.com/primes). Esta fatorização encontra os fatores de um número utilizando apenas números primos como possíveis fatores, sendo que estes fatores primos são únicos para cada número. De fato, o [teorema fundamental da aritmética](https://www.mathsisfun.com/numbers/fundamental-theorem-arithmetic.html) afirma que qualquer número maior do que 1 ou é um número primo ou pode ser expresso na forma de um produto de números primos. \n",
    "\n",
    "Neste exercício, você irá computar os fatores primos de um número qualquer, informado pelo usuário, armazenará os fatores primos em uma lista, e imprimirá este \n",
    "\n",
    "Componentes da nota:\n",
    "\n",
    "- Consistência da entrada (10%)\n",
    "- Computação da lista de primos (20%)\n",
    "- Computação dos fatores primos (40%)\n",
    "- Utilização de dois laços aninhados para a computação dos primos (20%)\n",
    "- Documentação do código (10%)"
   ]
  },
  {
   "cell_type": "markdown",
   "metadata": {},
   "source": [
    "## Consistência da Entrada\n",
    "Antes de iniciar a fatoração, é necessário pedir para o usuário este número e assegurar-se que o número é inteiro (i.e. verificar a consistência da entrada). Você irá atribuir o valor verificado na variável ```n```, abaixo:"
   ]
  },
  {
   "cell_type": "code",
   "execution_count": null,
   "metadata": {
    "collapsed": true
   },
   "outputs": [],
   "source": [
    "### CODE START ###\n",
    "n = None\n",
    "### CODE END ###"
   ]
  },
  {
   "cell_type": "markdown",
   "metadata": {},
   "source": [
    "Nos asseguramos que a entrada está correta com o código abaixo."
   ]
  },
  {
   "cell_type": "code",
   "execution_count": null,
   "metadata": {},
   "outputs": [],
   "source": [
    "print(type(n))"
   ]
  },
  {
   "cell_type": "markdown",
   "metadata": {},
   "source": [
    "**Resultado Esperado:**\n",
    "```bash\n",
    "<class 'int'>\n",
    "```"
   ]
  },
  {
   "cell_type": "markdown",
   "metadata": {},
   "source": [
    "Antes de fatorar o número solicitado, vamos gerar uma lista de números primos. Para este exercício, não se preocupe com o funcionamento específico das listas. Escreva um programa como se você quisesse imprimir apenas os primos armazenados na variável ```i```, e, no lugar da chamada para ```print(i)```, cole o seguinte trecho que código:\n",
    "```Python\n",
    "primes.append(i)\n",
    "```"
   ]
  },
  {
   "cell_type": "code",
   "execution_count": null,
   "metadata": {},
   "outputs": [],
   "source": [
    "primes = [1]\n",
    "### CODE START ###\n",
    "\n",
    "### CODE END ###\n",
    "print(primes)"
   ]
  },
  {
   "cell_type": "markdown",
   "metadata": {},
   "source": [
    "Agora prosseguimos para computar os fatores primos e armazená-los na lista ```factors```. Novamente, não se preocupe com a operação da lista: escreva um programa que imprime os fatores primos armazenados na variável ```i```, e, no lugar da chamada para ```print(i)```, cole o seguinte trecho de código:\n",
    "```Python\n",
    "factors.append(i)\n",
    "```"
   ]
  },
  {
   "cell_type": "code",
   "execution_count": null,
   "metadata": {
    "collapsed": true
   },
   "outputs": [],
   "source": [
    "factors = []\n",
    "### CODE START ###\n",
    "\n",
    "### CODE END ###\n",
    "print(factors)"
   ]
  }
 ],
 "metadata": {
  "kernelspec": {
   "display_name": "Python 3",
   "language": "python",
   "name": "python3"
  },
  "language_info": {
   "codemirror_mode": {
    "name": "ipython",
    "version": 3
   },
   "file_extension": ".py",
   "mimetype": "text/x-python",
   "name": "python",
   "nbconvert_exporter": "python",
   "pygments_lexer": "ipython3",
   "version": "3.6.3"
  }
 },
 "nbformat": 4,
 "nbformat_minor": 2
}
