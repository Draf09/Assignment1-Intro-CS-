{
 "cells": [
  {
   "cell_type": "markdown",
   "metadata": {},
   "source": [
    "# Exercício 1\n",
    "# Fatoração de Números Primos\n",
    "\n",
    "Os fatores de um número são os números com os quais é possível obter um outro número através da multiplicação, por exemplo, os números $2$ e $3$ são fatores do número $6$, de forma que: \n",
    "\n",
    "$$ 2 \\times 3 = 6$$ \n",
    "\n",
    "Fatorização é o processo de encontrar quais números são os fatores de outro número, frequentemente realizando verificando por quais números podemos realizar a divisão inteira sem resto do número a ser fatorado. A [fatorização em primos](https://www.mathsisfun.com/prime-factorization.html) ou [decomposição em fatores primos](https://www.somatematica.com.br/fundam/decomp.php) é um tipo especial de fatorização com diversas aplicações, [especialmente em criptografia](http://cryptofundamentals.com/primes). Esta fatorização encontra os fatores de um número utilizando apenas números primos como possíveis fatores, sendo que estes fatores primos são únicos para cada número. De fato, o [teorema fundamental da aritmética](https://www.mathsisfun.com/numbers/fundamental-theorem-arithmetic.html) afirma que qualquer número maior do que 1 ou é um número primo ou pode ser expresso na forma de um produto de números primos. \n",
    "\n",
    "Neste exercício, você irá computar os fatores primos de um número qualquer, informado pelo usuário, armazenará os fatores primos em uma lista, e imprimirá este \n",
    "\n",
    "Componentes da nota:\n",
    "\n",
    "- Consistência da entrada (10%)\n",
    "- Computação da lista de primos (20%)\n",
    "- Computação dos fatores primos (40%)\n",
    "- Utilização de dois laços aninhados para a computação dos primos (20%)\n",
    "- Documentação do código (10%)"
   ]
  },
  {
   "cell_type": "markdown",
   "metadata": {},
   "source": [
    "## Consistência da Entrada\n",
    "Antes de iniciar a fatoração, é necessário pedir para o usuário este número e assegurar-se que o número é inteiro (i.e. verificar a consistência da entrada). Você irá atribuir o valor verificado na variável ```n```, abaixo:"
   ]
  },
  {
   "cell_type": "code",
   "execution_count": 1,
   "metadata": {},
   "outputs": [
    {
     "name": "stdout",
     "output_type": "stream",
     "text": [
      "Digite um  numero :200\n",
      "200 Não é um número primo.\n"
     ]
    }
   ],
   "source": [
    "### CODE START ###\n",
    "i = 2\n",
    "n = int(input(\"Digite um  numero :\"))\n",
    "if n > 1:  # numeros primos são maiores que 1.\n",
    "    # verifica fatores primos\n",
    "    for i in range(2, n):  # percorre numeros de 2 a n\n",
    "        if (n % i) == 0:  # se o resto da divisao de n po i for  igual a 0\n",
    "            print(n, \"Não é um número primo.\")  # escreve não é primo\n",
    "            break\n",
    "    else:\n",
    "        print(n, \"É um número primo\") # Escreve na tela: É um número primo\n",
    "\n",
    "else:  # \n",
    "    print(n, \"Não é um número primo.\") #Em qualquer outro caso que não os anteriores, não é primo também.\n",
    "\n",
    "\n",
    "\n",
    "### CODE END ###"
   ]
  },
  {
   "cell_type": "markdown",
   "metadata": {},
   "source": [
    "Nos asseguramos que a entrada está correta com o código abaixo."
   ]
  },
  {
   "cell_type": "code",
   "execution_count": 2,
   "metadata": {},
   "outputs": [
    {
     "name": "stdout",
     "output_type": "stream",
     "text": [
      "<class 'int'>\n"
     ]
    }
   ],
   "source": [
    "print(type(n))"
   ]
  },
  {
   "cell_type": "markdown",
   "metadata": {},
   "source": [
    "**Resultado Esperado:**\n",
    "```bash\n",
    "<class 'int'>\n",
    "```"
   ]
  },
  {
   "cell_type": "markdown",
   "metadata": {},
   "source": [
    "Antes de fatorar o número solicitado, vamos gerar uma lista de números primos. Para este exercício, não se preocupe com o funcionamento específico das listas. Escreva um programa como se você quisesse imprimir apenas os primos armazenados na variável ```i```, e, no lugar da chamada para ```print(i)```, cole o seguinte trecho que código:\n",
    "```Python\n",
    "primes.append(i)\n",
    "```"
   ]
  },
  {
   "cell_type": "code",
   "execution_count": 3,
   "metadata": {},
   "outputs": [
    {
     "name": "stdout",
     "output_type": "stream",
     "text": [
      "Os números primos são : 2\n",
      "Os números primos são : 3\n",
      "Os números primos são : 5\n",
      "Os números primos são : 7\n",
      "Os números primos são : 11\n",
      "Os números primos são : 13\n",
      "Os números primos são : 17\n",
      "Os números primos são : 19\n",
      "Os números primos são : 23\n",
      "Os números primos são : 29\n",
      "Os números primos são : 31\n",
      "Os números primos são : 37\n",
      "Os números primos são : 41\n",
      "Os números primos são : 43\n",
      "Os números primos são : 47\n",
      "Os números primos são : 53\n",
      "Os números primos são : 59\n",
      "Os números primos são : 61\n",
      "Os números primos são : 67\n",
      "Os números primos são : 71\n",
      "Os números primos são : 73\n",
      "Os números primos são : 79\n",
      "Os números primos são : 83\n",
      "Os números primos são : 89\n",
      "Os números primos são : 97\n",
      "Os números primos são : 101\n",
      "Os números primos são : 103\n",
      "Os números primos são : 107\n",
      "Os números primos são : 109\n",
      "Os números primos são : 113\n",
      "Os números primos são : 127\n",
      "Os números primos são : 131\n",
      "Os números primos são : 137\n",
      "Os números primos são : 139\n",
      "Os números primos são : 149\n",
      "Os números primos são : 151\n",
      "Os números primos são : 157\n",
      "Os números primos são : 163\n",
      "Os números primos são : 167\n",
      "Os números primos são : 173\n",
      "Os números primos são : 179\n",
      "Os números primos são : 181\n",
      "Os números primos são : 191\n",
      "Os números primos são : 193\n",
      "Os números primos são : 197\n",
      "Os números primos são : 199\n"
     ]
    }
   ],
   "source": [
    "primes = [1]\n",
    "### CODE START ###\n",
    "\n",
    "for i in range(2, n+1):                        # como range() não inclui o limite superior do valor passado para a variável n , adicionamos 1 assim ele será incluído.\n",
    "    for j in range(2, i):                      # para todo j entre 2 até i \n",
    "        if i % j == 0:                         # se o resto da divisão de i por j for 0, encerra o programa.\n",
    "            break \n",
    "    else:                                      # caso contrário segue computando os números primos.\n",
    "        #print(\"Os números primos são :\", i)    # esse seria o comando print. Deixei só pra eu ter certeza que está computando certo.\n",
    "        primes.append(i)\n",
    "\n",
    "### CODE END ###\n"
   ]
  },
  {
   "cell_type": "markdown",
   "metadata": {},
   "source": [
    "Agora prosseguimos para computar os fatores primos e armazená-los na lista ```factors```. Novamente, não se preocupe com a operação da lista: escreva um programa que imprime os fatores primos armazenados na variável ```i```, e, no lugar da chamada para ```print(i)```, cole o seguinte trecho de código:\n",
    "```Python\n",
    "factors.append(i)\n",
    "```"
   ]
  },
  {
   "cell_type": "code",
   "execution_count": 4,
   "metadata": {},
   "outputs": [
    {
     "name": "stdout",
     "output_type": "stream",
     "text": [
      "[2, 4, 5, 8, 10, 20, 25, 40, 50, 100, 200]\n"
     ]
    }
   ],
   "source": [
    "factors = []\n",
    "### CODE START ###\n",
    "for i in range(2, n + 1):  # novamente como range() não inclui o limite superior de n , adicionamos 1 assim ele será incluído.\n",
    "    if n % i == 0:         # se o resto da divisão de n por i for 0\n",
    "        factors.append(i)  # armazena os fatores primos em uma lista\n",
    "print(factors)             # imprime os fatores primos\n",
    "### CODE END ###\n"
   ]
  },
  {
   "cell_type": "code",
   "execution_count": null,
   "metadata": {
    "collapsed": true
   },
   "outputs": [],
   "source": []
  },
  {
   "cell_type": "code",
   "execution_count": null,
   "metadata": {
    "collapsed": true
   },
   "outputs": [],
   "source": []
  }
 ],
 "metadata": {
  "kernelspec": {
   "display_name": "Python 3",
   "language": "python",
   "name": "python3"
  },
  "language_info": {
   "codemirror_mode": {
    "name": "ipython",
    "version": 3
   },
   "file_extension": ".py",
   "mimetype": "text/x-python",
   "name": "python",
   "nbconvert_exporter": "python",
   "pygments_lexer": "ipython3",
   "version": "3.6.3"
  }
 },
 "nbformat": 4,
 "nbformat_minor": 2
}
